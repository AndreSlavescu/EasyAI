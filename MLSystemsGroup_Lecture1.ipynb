{
  "nbformat": 4,
  "nbformat_minor": 0,
  "metadata": {
    "colab": {
      "provenance": [],
      "authorship_tag": "ABX9TyO9DhCP4BRTTAcc/zVckq7p",
      "include_colab_link": true
    },
    "kernelspec": {
      "name": "python3",
      "display_name": "Python 3"
    },
    "language_info": {
      "name": "python"
    }
  },
  "cells": [
    {
      "cell_type": "markdown",
      "metadata": {
        "id": "view-in-github",
        "colab_type": "text"
      },
      "source": [
        "<a href=\"https://colab.research.google.com/github/AndreSlavescu/EasyAI/blob/main/MLSystemsGroup_Lecture1.ipynb\" target=\"_parent\"><img src=\"https://colab.research.google.com/assets/colab-badge.svg\" alt=\"Open In Colab\"/></a>"
      ]
    },
    {
      "cell_type": "code",
      "execution_count": 1,
      "metadata": {
        "colab": {
          "base_uri": "https://localhost:8080/"
        },
        "id": "jXooFKTB4xl7",
        "outputId": "29daa03f-7d2b-4743-eca8-1a2041b306ae"
      },
      "outputs": [
        {
          "output_type": "stream",
          "name": "stdout",
          "text": [
            "tensor([[ 0.5874, -0.0648]], grad_fn=<AddmmBackward0>)\n"
          ]
        }
      ],
      "source": [
        "import torch\n",
        "import torch.nn as nn\n",
        "\n",
        "class SimpleNet(nn.Module):\n",
        "    def __init__(self):\n",
        "        super(SimpleNet, self).__init__()\n",
        "        self.linear1 = nn.Linear(10, 5)\n",
        "        self.relu = nn.ReLU()\n",
        "        self.linear2 = nn.Linear(5, 2)\n",
        "\n",
        "    def forward(self, x):\n",
        "        x = self.relu(self.linear1(x))\n",
        "        x = self.linear2(x)\n",
        "        return x\n",
        "\n",
        "x = torch.randn(1, 10)\n",
        "model = SimpleNet()\n",
        "output = model(x)\n",
        "print(output)"
      ]
    },
    {
      "cell_type": "code",
      "source": [
        "\"\"\"\n",
        "Comparing the FX Graphs with and without torch.no_grad\n",
        "\"\"\"\n",
        "\n",
        "from torch.fx import symbolic_trace\n",
        "import time\n",
        "\n",
        "time_average_no_grad = 0\n",
        "time_average_with_grad = 0\n",
        "iters = 100\n",
        "\n",
        "for _ in range(iters):\n",
        "  with torch.no_grad():\n",
        "      x = torch.randn(1, 10)\n",
        "      start_no_grad = time.time()\n",
        "      output_no_grad = model(x)\n",
        "      end_no_grad = time.time()\n",
        "      time_average_no_grad += end_no_grad - start_no_grad\n",
        "\n",
        "  x = torch.randn(1, 10)\n",
        "  start_with_grad = time.time()\n",
        "  output_with_grad = model(x)\n",
        "  end_with_grad = time.time()\n",
        "  time_average_with_grad += end_with_grad - start_with_grad\n",
        "\n",
        "print(f'Time with no_grad: {round(time_average_no_grad / iters, 6)} seconds')\n",
        "print(f'Time with grad: {round(time_average_with_grad / iters, 6)} seconds')\n",
        "\n",
        "with torch.no_grad():\n",
        "    traced_model_no_grad = symbolic_trace(model)\n",
        "\n",
        "traced_model_with_grad = symbolic_trace(model)\n",
        "\n",
        "print(\"\\nGraph with torch.no_grad:\")\n",
        "print(traced_model_no_grad.graph)\n",
        "\n",
        "print(\"\\nGraph without torch.no_grad:\")\n",
        "print(traced_model_with_grad.graph)"
      ],
      "metadata": {
        "colab": {
          "base_uri": "https://localhost:8080/"
        },
        "id": "N4k8BYdK5q4L",
        "outputId": "144c31a3-e16d-471b-940b-b0eb9ac34440"
      },
      "execution_count": 2,
      "outputs": [
        {
          "output_type": "stream",
          "name": "stdout",
          "text": [
            "Time with no_grad: 5.3e-05 seconds\n",
            "Time with grad: 0.000113 seconds\n",
            "\n",
            "Graph with torch.no_grad:\n",
            "graph():\n",
            "    %x : [num_users=1] = placeholder[target=x]\n",
            "    %linear1 : [num_users=1] = call_module[target=linear1](args = (%x,), kwargs = {})\n",
            "    %relu : [num_users=1] = call_module[target=relu](args = (%linear1,), kwargs = {})\n",
            "    %linear2 : [num_users=1] = call_module[target=linear2](args = (%relu,), kwargs = {})\n",
            "    return linear2\n",
            "\n",
            "Graph without torch.no_grad:\n",
            "graph():\n",
            "    %x : [num_users=1] = placeholder[target=x]\n",
            "    %linear1 : [num_users=1] = call_module[target=linear1](args = (%x,), kwargs = {})\n",
            "    %relu : [num_users=1] = call_module[target=relu](args = (%linear1,), kwargs = {})\n",
            "    %linear2 : [num_users=1] = call_module[target=linear2](args = (%relu,), kwargs = {})\n",
            "    return linear2\n"
          ]
        }
      ]
    },
    {
      "cell_type": "code",
      "source": [
        "\"\"\"\n",
        "Looking at dispatched operators with trace.json\n",
        "\"\"\"\n",
        "import torch.profiler\n",
        "\n",
        "with torch.no_grad():\n",
        "    with torch.profiler.profile(\n",
        "        activities=[torch.profiler.ProfilerActivity.CPU],\n",
        "        record_shapes=True,\n",
        "        profile_memory=True\n",
        "    ) as prof_no_grad:\n",
        "        output_no_grad = model(x)\n",
        "\n",
        "prof_no_grad.export_chrome_trace(\"trace_no_grad.json\")\n",
        "\n",
        "with torch.profiler.profile(\n",
        "    activities=[torch.profiler.ProfilerActivity.CPU],\n",
        "        record_shapes=True,\n",
        "        profile_memory=True\n",
        ") as prof_with_grad:\n",
        "    output_with_grad = model(x)\n",
        "\n",
        "prof_with_grad.export_chrome_trace(\"trace_with_grad.json\")"
      ],
      "metadata": {
        "id": "1AcTnhzqYmHN"
      },
      "execution_count": 3,
      "outputs": []
    },
    {
      "cell_type": "markdown",
      "source": [
        "# View Trace\n",
        "\n",
        "Visit:\n",
        "\n",
        "[chrome://tracing/](chrome://tracing)\n",
        "\n",
        "to view the trace."
      ],
      "metadata": {
        "id": "fItjOr-XbPVb"
      }
    }
  ]
}